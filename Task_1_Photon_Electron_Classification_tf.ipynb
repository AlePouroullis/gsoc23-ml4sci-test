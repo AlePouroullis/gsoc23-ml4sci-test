{
 "cells": [
  {
   "cell_type": "code",
   "execution_count": 1,
   "id": "95006dde",
   "metadata": {},
   "outputs": [],
   "source": [
    "import h5py\n",
    "import numpy as np\n",
    "import matplotlib.pyplot as plt\n",
    "import tensorflow as tf\n",
    "from sklearn.model_selection import train_test_split\n"
   ]
  },
  {
   "cell_type": "markdown",
   "id": "08cd694b",
   "metadata": {},
   "source": []
  },
  {
   "cell_type": "code",
   "execution_count": 2,
   "id": "7676de96",
   "metadata": {},
   "outputs": [],
   "source": [
    "photon_data = h5py.File(\"SinglePhotonPt50_IMGCROPS_n249k_RHv1.hdf5\")\n",
    "electron_data = h5py.File(\"SingleElectronPt50_IMGCROPS_n249k_RHv1.hdf5\")"
   ]
  },
  {
   "cell_type": "code",
   "execution_count": 3,
   "id": "d664c933",
   "metadata": {},
   "outputs": [],
   "source": [
    "x = np.concatenate((photon_data['X'], electron_data['X']), axis=0)\n",
    "y = np.concatenate((photon_data['y'], electron_data['y']), axis=0)\n",
    "indices = np.random.permutation(len(x))\n",
    "x = x[indices]\n",
    "y = y[indices]\n",
    "x = np.array(tf.image.per_image_standardization(x))\n"
   ]
  },
  {
   "cell_type": "code",
   "execution_count": 4,
   "id": "171ed4bc",
   "metadata": {},
   "outputs": [
    {
     "data": {
      "image/png": "[encoded data removed]",
      "text/plain": [
       "<Figure size 720x720 with 4 Axes>"
      ]
     },
     "metadata": {
      "needs_background": "light"
     },
     "output_type": "display_data"
    }
   ],
   "source": [
    "# plotting the two channels – hit energy and time – of the photon and electron\n",
    "\n",
    "photon_indices = np.where(y == 0)[0]\n",
    "electron_indices = np.where(y == 1)[0]\n",
    "\n",
    "photon_energy = x[photon_indices, :, :, 0]\n",
    "photon_time = x[photon_indices, :, :, 1]\n",
    "electron_energy = x[electron_indices, :, :, 0]\n",
    "electron_time = x[electron_indices, :, :, 1]\n",
    "\n",
    "fig, ax = plt.subplots(2, 2, figsize=(10, 10))\n",
    "ax[0, 0].imshow(photon_energy[0], cmap=\"gray\")\n",
    "ax[0, 0].set_title(\"Photon Hit Energy\")\n",
    "ax[0, 1].imshow(photon_time[0], cmap=\"gray\")\n",
    "ax[0, 1].set_title(\"Photon Time\")\n",
    "ax[1, 0].imshow(electron_energy[0], cmap=\"gray\") \n",
    "ax[1, 0].set_title(\"Electron Hit Energy\")\n",
    "ax[1, 1].imshow(electron_time[0], cmap=\"gray\")\n",
    "ax[1, 1].set_title(\"Electron Time\")\n",
    "plt.show()\n"
   ]
  },
  {
   "cell_type": "code",
   "execution_count": 9,
   "id": "0557bb67",
   "metadata": {},
   "outputs": [],
   "source": [
    "from sklearn.model_selection import train_test_split\n",
    "\n",
    "# for model evaluation, I use a smaller subset of the data to accelerate the training process.\n",
    "\n",
    "x_train_full, x_test, y_train_full, y_test = train_test_split(x, y, test_size=0.2, random_state=42)\n",
    "x_train, x_val, y_train, y_val = train_test_split(x_train, y_train, test_size=0.1)"
   ]
  },
  {
   "cell_type": "code",
   "execution_count": 10,
   "id": "fb273e36",
   "metadata": {},
   "outputs": [],
   "source": [
    "# create cnn that takes in the image and outputs a probability of it being a photon or electron (where photon is 0 and electron is 1). Note that the data has the shape (32, 32, 2) – as in, a 32 by 32 matrix with two channels, one for hit \n",
    "# energy, and one for time.\n",
    "\n",
    "# create the model\n",
    "model = tf.keras.models.Sequential()\n",
    "\n",
    "# add the first convolutional layer\n",
    "model.add(tf.keras.layers.Conv2D(32, (3, 3), activation='relu', input_shape=(32, 32, 2)))\n",
    "\n",
    "# add the second convolutional layer\n",
    "model.add(tf.keras.layers.Conv2D(32, (3, 3), activation='relu'))\n",
    "\n",
    "# add a max pooling layer\n",
    "model.add(tf.keras.layers.MaxPooling2D(pool_size=(2, 2)))\n",
    "\n",
    "# add a dropout layer\n",
    "model.add(tf.keras.layers.Dropout(0.25))\n",
    "\n",
    "# add a flatten layer\n",
    "model.add(tf.keras.layers.Flatten())\n",
    "\n",
    "# add a dense layer\n",
    "model.add(tf.keras.layers.Dense(128, activation='relu'))\n",
    "\n",
    "# add a dropout layer\n",
    "model.add(tf.keras.layers.Dropout(0.5))\n",
    "\n",
    "# add the output layer\n",
    "model.add(tf.keras.layers.Dense(1, activation='sigmoid'))\n",
    "\n",
    "# compile the model\n",
    "model.compile(loss='binary_crossentropy',\n",
    "               optimizer='adam',\n",
    "               metrics=['accuracy', tf.keras.metrics.AUC()])"
   ]
  },
  {
   "cell_type": "code",
   "execution_count": 12,
   "id": "2cdf46de",
   "metadata": {},
   "outputs": [
    {
     "name": "stdout",
     "output_type": "stream",
     "text": [
      "Epoch 1/10\n",
      "225/225 [==============================] - 5s 24ms/step - loss: 0.6737 - accuracy: 0.5835 - auc_1: 0.6169 - val_loss: 0.6642 - val_accuracy: 0.6000 - val_auc_1: 0.6380\n",
      "Epoch 2/10\n",
      "225/225 [==============================] - 5s 24ms/step - loss: 0.6594 - accuracy: 0.6003 - auc_1: 0.6458 - val_loss: 0.6559 - val_accuracy: 0.6187 - val_auc_1: 0.6571\n",
      "Epoch 3/10\n",
      "225/225 [==============================] - 5s 24ms/step - loss: 0.6463 - accuracy: 0.6239 - auc_1: 0.6722 - val_loss: 0.6587 - val_accuracy: 0.6075 - val_auc_1: 0.6484\n",
      "Epoch 4/10\n",
      "225/225 [==============================] - 7s 31ms/step - loss: 0.6334 - accuracy: 0.6378 - auc_1: 0.6921 - val_loss: 0.6698 - val_accuracy: 0.5962 - val_auc_1: 0.6262\n",
      "Epoch 5/10\n",
      "225/225 [==============================] - 6s 29ms/step - loss: 0.6096 - accuracy: 0.6589 - auc_1: 0.7231 - val_loss: 0.6679 - val_accuracy: 0.6000 - val_auc_1: 0.6288\n",
      "Epoch 6/10\n",
      "225/225 [==============================] - 6s 27ms/step - loss: 0.5869 - accuracy: 0.6826 - auc_1: 0.7527 - val_loss: 0.6810 - val_accuracy: 0.5950 - val_auc_1: 0.6463\n",
      "Epoch 7/10\n",
      "225/225 [==============================] - 6s 28ms/step - loss: 0.5569 - accuracy: 0.7103 - auc_1: 0.7849 - val_loss: 0.6862 - val_accuracy: 0.5975 - val_auc_1: 0.6447\n",
      "Epoch 8/10\n",
      "225/225 [==============================] - 6s 28ms/step - loss: 0.5137 - accuracy: 0.7412 - auc_1: 0.8237 - val_loss: 0.7108 - val_accuracy: 0.6012 - val_auc_1: 0.6364\n",
      "Epoch 9/10\n",
      "225/225 [==============================] - 6s 25ms/step - loss: 0.4747 - accuracy: 0.7624 - auc_1: 0.8516 - val_loss: 0.7237 - val_accuracy: 0.6012 - val_auc_1: 0.6360\n",
      "Epoch 10/10\n",
      "225/225 [==============================] - 6s 25ms/step - loss: 0.4340 - accuracy: 0.7918 - auc_1: 0.8795 - val_loss: 0.7779 - val_accuracy: 0.5925 - val_auc_1: 0.6371\n"
     ]
    }
   ],
   "source": [
    "history = model.fit(x_train, y_train, epochs=10, validation_data=(x_val, y_val))"
   ]
  },
  {
   "cell_type": "markdown",
   "id": "fdb8eaff",
   "metadata": {},
   "source": [
    "Evaluating the model on another subset of the data"
   ]
  },
  {
   "cell_type": "code",
   "execution_count": 11,
   "id": "61cac871",
   "metadata": {},
   "outputs": [
    {
     "name": "stdout",
     "output_type": "stream",
     "text": [
      "WARNING:tensorflow:From /Users/alexandrospouroullis/opt/miniconda3/envs/tf-metal/lib/python3.9/site-packages/tensorflow/python/autograph/pyct/static_analysis/liveness.py:83: Analyzer.lamba_check (from tensorflow.python.autograph.pyct.static_analysis.liveness) is deprecated and will be removed after 2023-09-23.\n",
      "Instructions for updating:\n",
      "Lambda fuctions will be no more assumed to be used in the statement where they are used, or at least in the same block. https://github.com/tensorflow/tensorflow/issues/56089\n",
      "WARNING:tensorflow:AutoGraph could not transform <function Model.make_predict_function.<locals>.predict_function at 0x17ea6cee0> and will run it as-is.\n",
      "Please report this to the TensorFlow team. When filing the bug, set the verbosity to 10 (on Linux, `export AUTOGRAPH_VERBOSITY=10`) and attach the full output.\n",
      "Cause: closure mismatch, requested ('self', 'step_function'), but source function had ()\n",
      "To silence this warning, decorate the function with @tf.autograph.experimental.do_not_convert\n",
      "WARNING: AutoGraph could not transform <function Model.make_predict_function.<locals>.predict_function at 0x17ea6cee0> and will run it as-is.\n",
      "Please report this to the TensorFlow team. When filing the bug, set the verbosity to 10 (on Linux, `export AUTOGRAPH_VERBOSITY=10`) and attach the full output.\n",
      "Cause: closure mismatch, requested ('self', 'step_function'), but source function had ()\n",
      "To silence this warning, decorate the function with @tf.autograph.experimental.do_not_convert\n",
      "15250/15250 [==============================] - 359s 23ms/step\n"
     ]
    }
   ],
   "source": [
    "x_test = x[10000:]\n",
    "y_test = y[10000:]\n",
    "\n",
    "predictions = model.predict(x_test)"
   ]
  },
  {
   "cell_type": "code",
   "execution_count": 76,
   "id": "bc7b8f4b",
   "metadata": {},
   "outputs": [],
   "source": [
    "from sklearn.metrics import roc_auc_score\n",
    "\n",
    "auc = roc_auc_score(y_test,predictions)"
   ]
  },
  {
   "cell_type": "code",
   "execution_count": 77,
   "id": "fbe8f2ef",
   "metadata": {},
   "outputs": [
    {
     "data": {
      "text/plain": [
       "0.6038397020729735"
      ]
     },
     "execution_count": 77,
     "metadata": {},
     "output_type": "execute_result"
    }
   ],
   "source": [
    "auc"
   ]
  },
  {
   "cell_type": "code",
   "execution_count": null,
   "id": "8a644246",
   "metadata": {},
   "outputs": [],
   "source": []
  }
 ],
 "metadata": {
  "kernelspec": {
   "display_name": "tf-metal",
   "language": "python",
   "name": "tf-metal"
  },
  "language_info": {
   "codemirror_mode": {
    "name": "ipython",
    "version": 3
   },
   "file_extension": ".py",
   "mimetype": "text/x-python",
   "name": "python",
   "nbconvert_exporter": "python",
   "pygments_lexer": "ipython3",
   "version": "3.9.16"
  }
 },
 "nbformat": 4,
 "nbformat_minor": 5
}

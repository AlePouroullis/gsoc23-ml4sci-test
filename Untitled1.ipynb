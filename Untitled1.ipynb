{
 "cells": [
  {
   "cell_type": "code",
   "execution_count": 21,
   "id": "95006dde",
   "metadata": {},
   "outputs": [],
   "source": [
    "import h5py\n",
    "import numpy as np\n",
    "import matplotlib.pyplot as plt\n",
    "import tensorflow as tf\n",
    "from sklearn.model_selection import train_test_split\n"
   ]
  },
  {
   "cell_type": "markdown",
   "id": "08cd694b",
   "metadata": {},
   "source": []
  },
  {
   "cell_type": "code",
   "execution_count": 22,
   "id": "7676de96",
   "metadata": {},
   "outputs": [],
   "source": [
    "photon_data = h5py.File(\"SinglePhotonPt50_IMGCROPS_n249k_RHv1.hdf5\")\n",
    "electron_data = h5py.File(\"SingleElectronPt50_IMGCROPS_n249k_RHv1.hdf5\")"
   ]
  },
  {
   "cell_type": "code",
   "execution_count": 23,
   "id": "d664c933",
   "metadata": {},
   "outputs": [],
   "source": [
    "x = np.concatenate((photon_data['X'], electron_data['X']), axis=0)\n",
    "y = np.concatenate((photon_data['y'], electron_data['y']), axis=0)\n",
    "indices = np.random.permutation(len(x))\n",
    "x = x[indices]\n",
    "y = y[indices]"
   ]
  },
  {
   "cell_type": "code",
   "execution_count": 33,
   "id": "9a59ddde",
   "metadata": {},
   "outputs": [
    {
     "name": "stdout",
     "output_type": "stream",
     "text": [
      "-1.9814202\n",
      "2.2128031\n"
     ]
    }
   ],
   "source": [
    "print(np.min(x[:1000, :, :, 1]))\n",
    "print(np.max(x[:1000, :, :, 1]))"
   ]
  },
  {
   "cell_type": "code",
   "execution_count": 24,
   "id": "171ed4bc",
   "metadata": {},
   "outputs": [
    {
     "data": {
      "image/png": "[encoded data removed]",
      "text/plain": [
       "<Figure size 720x720 with 4 Axes>"
      ]
     },
     "metadata": {
      "needs_background": "light"
     },
     "output_type": "display_data"
    }
   ],
   "source": [
    "# plotting the two channels – hit energy and time – of the photon and electron\n",
    "\n",
    "# plot the hit energy (0 in the last index) and the time (1 in the last index) as images of the photon and then the electron – the photon on the first row, the electron on the second row. Make a row label of \"photon\" on the first row, \"electron\" on the second, then the channels as column labels.\n",
    "\n",
    "# Use only one column label for the two plots in each row, and use the same column label for the two plots in each row.\n",
    "\n",
    "photon_indices = np.where(y == 0)[0]\n",
    "electron_indices = np.where(y == 1)[0]\n",
    "\n",
    "photon_energy = x[photon_indices, :, :, 0]\n",
    "photon_time = x[photon_indices, :, :, 1]\n",
    "electron_energy = x[electron_indices, :, :, 0]\n",
    "electron_time = x[electron_indices, :, :, 1]\n",
    "\n",
    "fig, ax = plt.subplots(2, 2, figsize=(10, 10))\n",
    "ax[0, 0].imshow(photon_energy[0], cmap=\"gray\")\n",
    "ax[0, 0].set_title(\"Photon Hit Energy\")\n",
    "ax[0, 1].imshow(photon_time[0], cmap=\"gray\")\n",
    "ax[0, 1].set_title(\"Photon Time\")\n",
    "ax[1, 0].imshow(electron_energy[0], cmap=\"gray\") \n",
    "ax[1, 0].set_title(\"Electron Hit Energy\")\n",
    "ax[1, 1].imshow(electron_time[0], cmap=\"gray\")\n",
    "ax[1, 1].set_title(\"Electron Time\")\n",
    "plt.show()\n"
   ]
  },
  {
   "cell_type": "code",
   "execution_count": 25,
   "id": "0557bb67",
   "metadata": {},
   "outputs": [],
   "source": [
    "from sklearn.model_selection import train_test_split\n",
    "\n",
    "# for model evaluation, I use a smaller subset of the data to accelerate the training process.\n",
    "\n",
    "x_small = x[:10000]\n",
    "y_small = y[:10000]\n",
    "x_train, x_test, y_train, y_test = train_test_split(x_small, y_small, test_size=0.2, random_state=42)"
   ]
  },
  {
   "cell_type": "code",
   "execution_count": 34,
   "id": "fb273e36",
   "metadata": {},
   "outputs": [],
   "source": [
    "# create cnn that takes in the image and outputs a probability of it being a photon or electron (where photon is 0 and electron is 1). Note that the data has the shape (32, 32, 2) – as in, a 32 by 32 matrix with two channels, one for hit energy, and one for time.\n",
    "\n",
    "# create the model\n",
    "model = tf.keras.models.Sequential()\n",
    "\n",
    "# add the first convolutional layer\n",
    "model.add(tf.keras.layers.Conv2D(32, (3, 3), activation='relu', input_shape=(32, 32, 2)))\n",
    "\n",
    "# add the second convolutional layer\n",
    "model.add(tf.keras.layers.Conv2D(32, (3, 3), activation='relu'))\n",
    "\n",
    "# add a max pooling layer\n",
    "model.add(tf.keras.layers.MaxPooling2D(pool_size=(2, 2)))\n",
    "\n",
    "# add a dropout layer\n",
    "model.add(tf.keras.layers.Dropout(0.25))\n",
    "\n",
    "# add a flatten layer\n",
    "model.add(tf.keras.layers.Flatten())\n",
    "\n",
    "# add a dense layer\n",
    "model.add(tf.keras.layers.Dense(128, activation='relu'))\n",
    "\n",
    "# add a dropout layer\n",
    "model.add(tf.keras.layers.Dropout(0.5))\n",
    "\n",
    "# add the output layer\n",
    "model.add(tf.keras.layers.Dense(1, activation='sigmoid'))\n",
    "\n",
    "# compile the model\n",
    "model.compile(loss='binary_crossentropy',\n",
    "               optimizer='adam',\n",
    "               metrics=['accuracy', tf.keras.metrics.AUC()])\n"
   ]
  },
  {
   "cell_type": "code",
   "execution_count": 35,
   "id": "2cdf46de",
   "metadata": {},
   "outputs": [
    {
     "name": "stdout",
     "output_type": "stream",
     "text": [
      "Epoch 1/10\n",
      "313/313 [==============================] - 9s 28ms/step - loss: 0.6759 - accuracy: 0.5749 - auc: 0.6072 - val_loss: 0.6640 - val_accuracy: 0.5955 - val_auc: 0.6333\n",
      "Epoch 2/10\n",
      "313/313 [==============================] - 8s 26ms/step - loss: 0.6524 - accuracy: 0.6195 - auc: 0.6560 - val_loss: 0.6475 - val_accuracy: 0.6240 - val_auc: 0.6772\n",
      "Epoch 3/10\n",
      "313/313 [==============================] - 8s 25ms/step - loss: 0.6432 - accuracy: 0.6346 - auc: 0.6735 - val_loss: 0.6294 - val_accuracy: 0.6440 - val_auc: 0.7049\n",
      "Epoch 4/10\n",
      "313/313 [==============================] - 12s 37ms/step - loss: 0.6329 - accuracy: 0.6446 - auc: 0.6915 - val_loss: 0.6172 - val_accuracy: 0.6600 - val_auc: 0.7298\n",
      "Epoch 5/10\n",
      "313/313 [==============================] - 8s 25ms/step - loss: 0.6215 - accuracy: 0.6539 - auc: 0.7075 - val_loss: 0.5988 - val_accuracy: 0.6695 - val_auc: 0.7466\n",
      "Epoch 6/10\n",
      "313/313 [==============================] - 8s 25ms/step - loss: 0.6071 - accuracy: 0.6684 - auc: 0.7279 - val_loss: 0.5850 - val_accuracy: 0.6810 - val_auc: 0.7756\n",
      "Epoch 7/10\n",
      "313/313 [==============================] - 8s 25ms/step - loss: 0.5908 - accuracy: 0.6792 - auc: 0.7472 - val_loss: 0.5600 - val_accuracy: 0.7135 - val_auc: 0.8016\n",
      "Epoch 8/10\n",
      "313/313 [==============================] - 8s 24ms/step - loss: 0.5759 - accuracy: 0.6974 - auc: 0.7662 - val_loss: 0.5315 - val_accuracy: 0.7465 - val_auc: 0.8327\n",
      "Epoch 9/10\n",
      "313/313 [==============================] - 8s 26ms/step - loss: 0.5543 - accuracy: 0.7099 - auc: 0.7883 - val_loss: 0.5021 - val_accuracy: 0.7635 - val_auc: 0.8509\n",
      "Epoch 10/10\n",
      "313/313 [==============================] - 8s 25ms/step - loss: 0.5360 - accuracy: 0.7233 - auc: 0.8035 - val_loss: 0.4794 - val_accuracy: 0.7870 - val_auc: 0.8699\n"
     ]
    }
   ],
   "source": [
    "history = model.fit(x_small, y_small, epochs=10, validation_data=(x_test, y_test))"
   ]
  },
  {
   "cell_type": "code",
   "execution_count": 36,
   "id": "f133059d",
   "metadata": {},
   "outputs": [
    {
     "name": "stdout",
     "output_type": "stream",
     "text": [
      "313/313 [==============================] - 2s 7ms/step\n"
     ]
    }
   ],
   "source": [
    "predictions = model.predict(x_small) "
   ]
  },
  {
   "cell_type": "code",
   "execution_count": 39,
   "id": "b8ffe4c0",
   "metadata": {},
   "outputs": [
    {
     "data": {
      "text/plain": [
       "array([1., 0., 1., ..., 1., 0., 1.], dtype=float32)"
      ]
     },
     "execution_count": 39,
     "metadata": {},
     "output_type": "execute_result"
    }
   ],
   "source": [
    "y_small"
   ]
  },
  {
   "cell_type": "code",
   "execution_count": null,
   "id": "61cac871",
   "metadata": {},
   "outputs": [],
   "source": []
  }
 ],
 "metadata": {
  "kernelspec": {
   "display_name": "tf-metal",
   "language": "python",
   "name": "tf-metal"
  },
  "language_info": {
   "codemirror_mode": {
    "name": "ipython",
    "version": 3
   },
   "file_extension": ".py",
   "mimetype": "text/x-python",
   "name": "python",
   "nbconvert_exporter": "python",
   "pygments_lexer": "ipython3",
   "version": "3.9.16"
  }
 },
 "nbformat": 4,
 "nbformat_minor": 5
}
